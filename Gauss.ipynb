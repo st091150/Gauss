{
  "nbformat": 4,
  "nbformat_minor": 0,
  "metadata": {
    "colab": {
      "provenance": []
    },
    "kernelspec": {
      "name": "python3",
      "display_name": "Python 3"
    },
    "language_info": {
      "name": "python"
    }
  },
  "cells": [
    {
      "cell_type": "markdown",
      "source": [
        "\n",
        "# **Решение методом Гаусса с выбором главного элемента**"
      ],
      "metadata": {
        "id": "hml9OhXqZM7u"
      }
    },
    {
      "cell_type": "code",
      "source": [
        "import numpy as np\n",
        "import numba\n",
        "import random \n",
        "import time\n",
        "import pandas as pd\n",
        "'''\n",
        "Декоратор numba.njit предписывает транслировать функцию в чистый машинный код, который не обращается к интерпретатору пайтона.\n",
        "В общем случае это невозможно, но в данном случае у нас все вычисления идут только с numpy,\n",
        "а для этого пакета numba умеет вызывать Си-инетерфейсы для соответствующих операций - индексирования, присваивания, арифметики.\n",
        "'''"
      ],
      "metadata": {
        "colab": {
          "base_uri": "https://localhost:8080/",
          "height": 70
        },
        "id": "KYMOlxd9aaAK",
        "outputId": "c58e0062-af29-4b40-87b4-e11b77528094"
      },
      "execution_count": 1,
      "outputs": [
        {
          "output_type": "execute_result",
          "data": {
            "text/plain": [
              "'\\nДекоратор numba.njit предписывает транслировать функцию в чистый машинный код, который не обращается к интерпретатору пайтона.\\nВ общем случае это невозможно, но в данном случае у нас все вычисления идут только с numpy,\\nа для этого пакета numba умеет вызывать Си-инетерфейсы для соответствующих операций - индексирования, присваивания, арифметики.\\n'"
            ],
            "application/vnd.google.colaboratory.intrinsic+json": {
              "type": "string"
            }
          },
          "metadata": {},
          "execution_count": 1
        }
      ]
    },
    {
      "cell_type": "code",
      "source": [
        "@numba.njit\n",
        "def makeTrianglePivot(matrix):\n",
        "    buf = np.zeros(matrix.shape[1])\n",
        "\n",
        "    for nrow in range(len(matrix)):\n",
        "        pivot = nrow + np.argmax(np.abs(matrix[nrow:, nrow]))\n",
        "        if pivot != nrow:\n",
        "            matrix[nrow], matrix[pivot] = matrix[pivot], np.copy(matrix[nrow])\n",
        "        row = matrix[nrow]\n",
        "        divider = row[nrow] # диагональный элемент\n",
        "        if abs(divider) < 1e-10:\n",
        "            raise ValueError(\"Матрица несовместна\")\n",
        "        row[nrow:] *= 1/divider\n",
        "        row[nrow] = 1.0\n",
        "        for lr in range(nrow+1, len(matrix)):\n",
        "            lower_row = matrix[lr]\n",
        "            factor = lower_row[nrow]\n",
        "            np.multiply(factor, row, buf)\n",
        "            lower_row -= buf\n",
        "    return matrix"
      ],
      "metadata": {
        "id": "hWf91rf8aqMF"
      },
      "execution_count": 5,
      "outputs": []
    },
    {
      "cell_type": "code",
      "execution_count": 6,
      "metadata": {
        "id": "TUn8sS9rV4HA"
      },
      "outputs": [],
      "source": [
        "@numba.njit\n",
        "def makeIdentity(matrix):\n",
        "    N = matrix.shape[0]\n",
        "    matrix = matrix.T\n",
        "    roots = matrix[-1]\n",
        "    for nrow in range(N-1,0,-1):\n",
        "        root = roots[nrow]\n",
        "        column = matrix[nrow]\n",
        "        roots[:nrow] -= root*column[:nrow]\n",
        "        column[:nrow] = 0.0\n",
        "        \n",
        "    return matrix.T"
      ]
    },
    {
      "cell_type": "code",
      "source": [
        "def gaussSolvePivot(A, b=None):\n",
        "    start_time = time.time()\n",
        "    \"\"\"Решает систему линейных алгебраических уравнений Ax=b\n",
        "    Если b is None, то свободные коэффициенты в последней колонке\"\"\"\n",
        "    shape = A.shape\n",
        "    assert len(shape) == 2, (\"Матрица не двумерная\", shape) # двумерная матрица\n",
        "    A = A.copy()\n",
        "    if b is not None:\n",
        "        assert shape[0] == shape[1], (\"Матрица не квадратная\", shape)\n",
        "        assert b.shape[0] == shape[0], (\"Размерность свободных членов не соответствует матрице\", shape, b.shape)\n",
        "        # добавляем свободные члены дополнительным столбцом\n",
        "        A = np.c_[A, b]\n",
        "    else:\n",
        "        # Проверяем, что квадратная плюс столбец\n",
        "        assert shape[0]+1 == shape[1], (\"Неверный формат матрицы\", shape)\n",
        "    makeTrianglePivot(A)\n",
        "    makeIdentity(A)\n",
        "    return A[:,-1], time.time() - start_time"
      ],
      "metadata": {
        "id": "vTUVi6XjasDE"
      },
      "execution_count": 2,
      "outputs": []
    },
    {
      "cell_type": "markdown",
      "source": [
        "# **Генератор Матриц**"
      ],
      "metadata": {
        "id": "xnXINKJbdji-"
      }
    },
    {
      "cell_type": "code",
      "source": [
        "def generator(size, t = 3, lower_bound = -10, upper_bound = 10): # t - количество чисел после запятой\n",
        "  randomSle = np.round(np.random.uniform(low=lower_bound,high=upper_bound,size=(size,size)),t)\n",
        "  randomV = np.round(np.random.uniform(low=lower_bound,high=upper_bound,size=(size,1)),t)\n",
        "  return (randomSle, randomV)"
      ],
      "metadata": {
        "id": "aI1YaaD8amRO"
      },
      "execution_count": 27,
      "outputs": []
    },
    {
      "cell_type": "markdown",
      "source": [
        "# **Тесты**"
      ],
      "metadata": {
        "id": "OS9aPdOLYvW2"
      }
    },
    {
      "cell_type": "code",
      "source": [
        "table = pd.DataFrame()\n",
        "a = [5,10,20,30,50,100,200,500,1000,5000]\n",
        "for i in a:\n",
        "  time_tmp = []\n",
        "  er_tmp = []\n",
        "  er_ot = []\n",
        "  for j in range(3):\n",
        "    matrix = generator(i,t=2,lower_bound=-100,upper_bound=100)\n",
        "    result = gaussSolvePivot(*matrix)\n",
        "    time_tmp.append(result[1])\n",
        "\n",
        "    np_roots = np.linalg.solve(*matrix)\n",
        "    tmp = np.abs(np.matmul(matrix[0], np_roots) - matrix[1])\n",
        "    er_tmp.append(tmp)\n",
        "    er_ot.append(np.abs(np.matmul(matrix[0], np_roots) - matrix[1])/(matrix[1]) * 100)\n",
        "  table = table.append({'Размерность матрицы':int(i),'Среднее время выполнения(сек,5 знаков)':round(np.mean(time_tmp),5) ,\n",
        "                        'Средняя Абсолютная погрешность (10 знаков)': round(np.mean(er_tmp),10),\n",
        "                        'Средняя Относительная погрешность': np.mean(er_ot)},ignore_index=True)\n",
        "\n",
        "print(table.head())"
      ],
      "metadata": {
        "colab": {
          "base_uri": "https://localhost:8080/"
        },
        "id": "mNhsSJBwdnEx",
        "outputId": "556ed9ba-b346-44d2-94e3-90bc1d875447"
      },
      "execution_count": 36,
      "outputs": [
        {
          "output_type": "stream",
          "name": "stderr",
          "text": [
            "<ipython-input-36-cfa77759e900>:15: RuntimeWarning: divide by zero encountered in true_divide\n",
            "  er_ot.append(np.abs(np.matmul(matrix[0], np_roots) - matrix[1])/(matrix[1]) * 100)\n"
          ]
        },
        {
          "output_type": "stream",
          "name": "stdout",
          "text": [
            "   Размерность матрицы  Среднее время выполнения(сек,5 знаков)  \\\n",
            "0                  5.0                                 0.00009   \n",
            "1                 10.0                                 0.00006   \n",
            "2                 20.0                                 0.00010   \n",
            "3                 30.0                                 0.00015   \n",
            "4                 50.0                                 0.00021   \n",
            "\n",
            "   Средняя Абсолютная погрешность (10 знаков)  \\\n",
            "0                                         0.0   \n",
            "1                                         0.0   \n",
            "2                                         0.0   \n",
            "3                                         0.0   \n",
            "4                                         0.0   \n",
            "\n",
            "   Средняя Относительная погрешность  \n",
            "0                      -4.540787e-14  \n",
            "1                      -1.318590e-14  \n",
            "2                      -3.232703e-13  \n",
            "3                       1.249342e-13  \n",
            "4                       2.025518e-12  \n"
          ]
        }
      ]
    }
  ]
}